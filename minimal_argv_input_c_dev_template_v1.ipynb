{
  "nbformat": 4,
  "nbformat_minor": 0,
  "metadata": {
    "colab": {
      "provenance": [],
      "collapsed_sections": [
        "7Qio39h9SlHw"
      ]
    },
    "kernelspec": {
      "name": "python3",
      "display_name": "Python 3"
    },
    "language_info": {
      "name": "python"
    }
  },
  "cells": [
    {
      "cell_type": "markdown",
      "source": [
        "# df.shape() function for c csv_db\n",
        "```\n",
        "This notebook works in environments such as colab,\n",
        "and may work locally if you have gcc installed,\n",
        "to create, to test, and to run, C code and produce binary files.\n",
        "```"
      ],
      "metadata": {
        "id": "stJP7ZiTm7JA"
      }
    },
    {
      "cell_type": "markdown",
      "source": [
        "# Install"
      ],
      "metadata": {
        "id": "gT3QHulBM8Bv"
      }
    },
    {
      "cell_type": "code",
      "source": [
        "!sudo apt install splint\n",
        "\n",
        "!pip install cpplint"
      ],
      "metadata": {
        "id": "EAlpLXCmLjyW",
        "colab": {
          "base_uri": "https://localhost:8080/"
        },
        "outputId": "c4121ab0-cf42-41b6-ed25-199178866690"
      },
      "execution_count": 14,
      "outputs": [
        {
          "output_type": "stream",
          "name": "stdout",
          "text": [
            "Reading package lists... Done\n",
            "Building dependency tree       \n",
            "Reading state information... Done\n",
            "splint is already the newest version (1:3.1.2+dfsg-1build1).\n",
            "The following package was automatically installed and is no longer required:\n",
            "  libnvidia-common-460\n",
            "Use 'sudo apt autoremove' to remove it.\n",
            "0 upgraded, 0 newly installed, 0 to remove and 20 not upgraded.\n",
            "Looking in indexes: https://pypi.org/simple, https://us-python.pkg.dev/colab-wheels/public/simple/\n",
            "Requirement already satisfied: cpplint in /usr/local/lib/python3.7/dist-packages (1.6.1)\n"
          ]
        }
      ]
    },
    {
      "cell_type": "markdown",
      "source": [
        "# Make demo.csv"
      ],
      "metadata": {
        "id": "7Qio39h9SlHw"
      }
    },
    {
      "cell_type": "code",
      "source": [
        "\"\"\"\n",
        "Make csv file.\n",
        "\"\"\"\n",
        "\n",
        "\n",
        "#########################\n",
        "# Text for demo.csv file\n",
        "#########################\n",
        "c_source_code_string = \"\"\"\n",
        "/*\n",
        "c program to write a sample demo dummy .csv file\n",
        "\n",
        "https://www.geeksforgeeks.org/strings-in-c-2/\n",
        "*/\n",
        "\n",
        "#include <stdio.h>\n",
        "#include <stdlib.h>\n",
        "\n",
        "int main() {\n",
        "\n",
        "    // set variable/memory for dummy csv file\n",
        "    char str[100] = \"a,b,c\\\\n1,2,3\\\\n4,5,6\";\n",
        "\n",
        "\n",
        "    // creating file pointer to work with files\n",
        "    FILE *file_pointer;\n",
        "\n",
        "\n",
        "    // opening file in writing mode\n",
        "    file_pointer = fopen( \"demo.csv\", \"w\" );\n",
        "\n",
        "\n",
        "    // check for error: was file created? if not exit program with message.\n",
        "    if ( file_pointer == NULL ) {\n",
        "        printf( \"The Error! The Error! AHHHHHHHH!!!!!\" );\n",
        "        exit( 1 );\n",
        "    }\n",
        "\n",
        "    // write to file\n",
        "    fprintf( file_pointer, \"%s\", str );\n",
        "    \n",
        "\n",
        "    // close file, ending file-write\n",
        "    fclose( file_pointer );\n",
        "    \n",
        "\n",
        "    // end program, exit\n",
        "    return 0;\n",
        "}\n",
        "\"\"\"\n",
        "\n",
        "####################################\n",
        "# make it: Make your .c source file\n",
        "####################################\n",
        "with open('source_file.c', \"w\") as file_object:\n",
        "   # write file content\n",
        "   file_object.write( c_source_code_string )\n",
        "\n",
        "#################################\n",
        "# Compile your c executible file\n",
        "#################################\n",
        "\n",
        "! gcc -o executable.exe source_file.c\n",
        "\n",
        "##########################################\n",
        "# List Files in Current Working Directory\n",
        "##########################################\n",
        "!ls\n",
        "\n",
        "#################################\n",
        "# Run your c executible file\n",
        "#################################\n",
        "\n",
        "!./executable.exe"
      ],
      "metadata": {
        "colab": {
          "base_uri": "https://localhost:8080/"
        },
        "id": "IEEP7F0TSkDm",
        "outputId": "92588987-413b-4f0e-88b4-d4180be1a9f3"
      },
      "execution_count": 15,
      "outputs": [
        {
          "output_type": "stream",
          "name": "stdout",
          "text": [
            "demo.csv  executable.exe  program.exe  source_file.c\n",
            "enum.exe  main.c\t  sample_data\n"
          ]
        }
      ]
    },
    {
      "cell_type": "markdown",
      "source": [
        "# C Source Code"
      ],
      "metadata": {
        "id": "-0m-nTUvjSbq"
      }
    },
    {
      "cell_type": "code",
      "source": [
        "c_source_code_string = \"\"\"/*\n",
        "df.shape() function for c csv_db\n",
        "\n",
        "GGAshbrook 2022.08.21\n",
        "\n",
        "\"Copyright [year] <Copyright Owner>\"  [legal/copyright]\"\n",
        "*/\n",
        "\n",
        "#include <stdio.h>\n",
        "#include <stdlib.h>\n",
        "#include <string.h>\n",
        "\n",
        "int main(int argc, char **argv) {\n",
        "    /*\n",
        "    // check length of input\n",
        "    if ( argc != 4 ) {\n",
        "        // Error message in English\n",
        "        printf(\"incorrect number of input arguments: \");\n",
        "        printf(\"Should be...xyz blah blah blah\");\n",
        "\n",
        "        return EXIT_FAILURE;\n",
        "        }\n",
        "    */\n",
        "\n",
        "    int a = atoi(argv[1]);\n",
        "\n",
        "    printf(\"%d\", a);\n",
        "\n",
        "    return 0;\n",
        "}\n",
        "\"\"\"\n",
        "\n",
        "####################################\n",
        "# Make it: Make your .c source file\n",
        "####################################\n",
        "with open('main.c', \"w\") as file_object:\n",
        "   # write file content\n",
        "   file_object.write( c_source_code_string )\n",
        "\n",
        "#################################\n",
        "# Compile your c executible file\n",
        "#################################\n",
        "# inspection\n",
        "print(\"Compile: \")\n",
        "\n",
        "!gcc -o program.exe main.c\n",
        "\n",
        "##########################################\n",
        "# List Files in Current Working Directory\n",
        "##########################################\n",
        "\n",
        "# inspection\n",
        "print(\"\\nList Files (ls): \")\n",
        "\n",
        "!ls\n",
        "\n",
        "#############################\n",
        "# Run your c executible file\n",
        "#############################\n",
        "# inspection\n",
        "print(\"\\nRun: \")\n",
        "\n",
        "!cpplint main.c; splint main.c; gcc -o program.exe main.c; ./program.exe 2 \n"
      ],
      "metadata": {
        "colab": {
          "base_uri": "https://localhost:8080/"
        },
        "id": "dTTAz2FD7PAD",
        "outputId": "326141aa-c77b-4ad2-ca33-0664afa3fdab"
      },
      "execution_count": 16,
      "outputs": [
        {
          "output_type": "stream",
          "name": "stdout",
          "text": [
            "Compile: \n",
            "\n",
            "List Files (ls): \n",
            "demo.csv  executable.exe  program.exe  source_file.c\n",
            "enum.exe  main.c\t  sample_data\n",
            "\n",
            "Run: \n",
            "Done processing main.c\n",
            "Splint 3.1.2 --- 20 Feb 2018\n",
            "\n",
            "main.c: (in function main)\n",
            "main.c:13:14: Parameter argc not used\n",
            "  A function parameter is not used in the body of the function. If the argument\n",
            "  is needed for type compatibility or future plans, use /*@unused@*/ in the\n",
            "  argument declaration. (Use -paramuse to inhibit warning)\n",
            "\n",
            "Finished checking --- 1 code warning\n",
            "2"
          ]
        }
      ]
    },
    {
      "cell_type": "markdown",
      "source": [
        "# Lint\n",
        "\n",
        "```\n",
        "!sudo apt install splint\n",
        "\n",
        "!pip install cpplint\n",
        "\n",
        "!sudo apt install clang-format\n",
        "```"
      ],
      "metadata": {
        "id": "E8_MAQ2jE9Td"
      }
    },
    {
      "cell_type": "code",
      "source": [
        "!cpplint main.c"
      ],
      "metadata": {
        "colab": {
          "base_uri": "https://localhost:8080/"
        },
        "id": "DgOrkzDTE-Un",
        "outputId": "e487d63a-a7de-4c48-c497-ad266f3cb80f"
      },
      "execution_count": 17,
      "outputs": [
        {
          "output_type": "stream",
          "name": "stdout",
          "text": [
            "Done processing main.c\n"
          ]
        }
      ]
    },
    {
      "cell_type": "code",
      "source": [
        "!splint main.c"
      ],
      "metadata": {
        "id": "tNaT8ZKHOTwt",
        "colab": {
          "base_uri": "https://localhost:8080/"
        },
        "outputId": "2119eb58-322b-476e-94b4-f4be9e881c0c"
      },
      "execution_count": 18,
      "outputs": [
        {
          "output_type": "stream",
          "name": "stdout",
          "text": [
            "Splint 3.1.2 --- 20 Feb 2018\n",
            "\n",
            "main.c: (in function main)\n",
            "main.c:13:14: Parameter argc not used\n",
            "  A function parameter is not used in the body of the function. If the argument\n",
            "  is needed for type compatibility or future plans, use /*@unused@*/ in the\n",
            "  argument declaration. (Use -paramuse to inhibit warning)\n",
            "\n",
            "Finished checking --- 1 code warning\n"
          ]
        }
      ]
    },
    {
      "cell_type": "code",
      "source": [],
      "metadata": {
        "id": "ZTYrS_RZtGia"
      },
      "execution_count": 18,
      "outputs": []
    }
  ]
}