{
  "nbformat": 4,
  "nbformat_minor": 0,
  "metadata": {
    "colab": {
      "provenance": [],
      "collapsed_sections": [
        "7Qio39h9SlHw"
      ]
    },
    "kernelspec": {
      "name": "python3",
      "display_name": "Python 3"
    },
    "language_info": {
      "name": "python"
    }
  },
  "cells": [
    {
      "cell_type": "markdown",
      "source": [
        "# df.shape() function for c csv_db\n",
        "```\n",
        "This notebook works in environments such as colab,\n",
        "and may work locally if you have gcc installed,\n",
        "to create, to test, and to run, C code and produce binary files.\n",
        "```"
      ],
      "metadata": {
        "id": "stJP7ZiTm7JA"
      }
    },
    {
      "cell_type": "markdown",
      "source": [
        "# Install"
      ],
      "metadata": {
        "id": "gT3QHulBM8Bv"
      }
    },
    {
      "cell_type": "code",
      "source": [
        "!sudo apt install splint\n",
        "\n",
        "!pip install cpplint"
      ],
      "metadata": {
        "id": "EAlpLXCmLjyW",
        "colab": {
          "base_uri": "https://localhost:8080/"
        },
        "outputId": "002f5031-54ce-4007-b23b-327361e45140"
      },
      "execution_count": 1,
      "outputs": [
        {
          "output_type": "stream",
          "name": "stdout",
          "text": [
            "Reading package lists... Done\n",
            "Building dependency tree       \n",
            "Reading state information... Done\n",
            "The following package was automatically installed and is no longer required:\n",
            "  libnvidia-common-460\n",
            "Use 'sudo apt autoremove' to remove it.\n",
            "The following additional packages will be installed:\n",
            "  splint-data\n",
            "Suggested packages:\n",
            "  splint-doc-html\n",
            "The following NEW packages will be installed:\n",
            "  splint splint-data\n",
            "0 upgraded, 2 newly installed, 0 to remove and 20 not upgraded.\n",
            "Need to get 740 kB of archives.\n",
            "After this operation, 2,883 kB of additional disk space will be used.\n",
            "Get:1 http://archive.ubuntu.com/ubuntu bionic/universe amd64 splint-data all 1:3.1.2+dfsg-1build1 [57.5 kB]\n",
            "Get:2 http://archive.ubuntu.com/ubuntu bionic/universe amd64 splint amd64 1:3.1.2+dfsg-1build1 [683 kB]\n",
            "Fetched 740 kB in 1s (714 kB/s)\n",
            "debconf: unable to initialize frontend: Dialog\n",
            "debconf: (No usable dialog-like program is installed, so the dialog based frontend cannot be used. at /usr/share/perl5/Debconf/FrontEnd/Dialog.pm line 76, <> line 2.)\n",
            "debconf: falling back to frontend: Readline\n",
            "debconf: unable to initialize frontend: Readline\n",
            "debconf: (This frontend requires a controlling tty.)\n",
            "debconf: falling back to frontend: Teletype\n",
            "dpkg-preconfigure: unable to re-open stdin: \n",
            "Selecting previously unselected package splint-data.\n",
            "(Reading database ... 155685 files and directories currently installed.)\n",
            "Preparing to unpack .../splint-data_1%3a3.1.2+dfsg-1build1_all.deb ...\n",
            "Unpacking splint-data (1:3.1.2+dfsg-1build1) ...\n",
            "Selecting previously unselected package splint.\n",
            "Preparing to unpack .../splint_1%3a3.1.2+dfsg-1build1_amd64.deb ...\n",
            "Unpacking splint (1:3.1.2+dfsg-1build1) ...\n",
            "Setting up splint-data (1:3.1.2+dfsg-1build1) ...\n",
            "Setting up splint (1:3.1.2+dfsg-1build1) ...\n",
            "Processing triggers for man-db (2.8.3-2ubuntu0.1) ...\n",
            "Looking in indexes: https://pypi.org/simple, https://us-python.pkg.dev/colab-wheels/public/simple/\n",
            "Collecting cpplint\n",
            "  Downloading cpplint-1.6.1-py3-none-any.whl (77 kB)\n",
            "\u001b[K     |████████████████████████████████| 77 kB 2.5 MB/s \n",
            "\u001b[?25hInstalling collected packages: cpplint\n",
            "Successfully installed cpplint-1.6.1\n"
          ]
        }
      ]
    },
    {
      "cell_type": "markdown",
      "source": [
        "# Make demo.csv"
      ],
      "metadata": {
        "id": "7Qio39h9SlHw"
      }
    },
    {
      "cell_type": "code",
      "source": [
        "\"\"\"\n",
        "Make csv file.\n",
        "\"\"\"\n",
        "\n",
        "\n",
        "#########################\n",
        "# Text for demo.csv file\n",
        "#########################\n",
        "c_source_code_string = \"\"\"\n",
        "/*\n",
        "c program to write a sample demo dummy .csv file\n",
        "\n",
        "https://www.geeksforgeeks.org/strings-in-c-2/\n",
        "*/\n",
        "\n",
        "#include <stdio.h>\n",
        "#include <stdlib.h>\n",
        "\n",
        "int main() {\n",
        "\n",
        "    // set variable/memory for dummy csv file\n",
        "    char str[100] = \"a,b,c\\\\n1,2,3\\\\n4,5,6\";\n",
        "\n",
        "\n",
        "    // creating file pointer to work with files\n",
        "    FILE *file_pointer;\n",
        "\n",
        "\n",
        "    // opening file in writing mode\n",
        "    file_pointer = fopen( \"demo.csv\", \"w\" );\n",
        "\n",
        "\n",
        "    // check for error: was file created? if not exit program with message.\n",
        "    if ( file_pointer == NULL ) {\n",
        "        printf( \"The Error! The Error! AHHHHHHHH!!!!!\" );\n",
        "        exit( 1 );\n",
        "    }\n",
        "\n",
        "    // write to file\n",
        "    fprintf( file_pointer, \"%s\", str );\n",
        "    \n",
        "\n",
        "    // close file, ending file-write\n",
        "    fclose( file_pointer );\n",
        "    \n",
        "\n",
        "    // end program, exit\n",
        "    return 0;\n",
        "}\n",
        "\"\"\"\n",
        "\n",
        "####################################\n",
        "# make it: Make your .c source file\n",
        "####################################\n",
        "with open('source_file.c', \"w\") as file_object:\n",
        "   # write file content\n",
        "   file_object.write( c_source_code_string )\n",
        "\n",
        "#################################\n",
        "# Compile your c executible file\n",
        "#################################\n",
        "\n",
        "! gcc -o executable.exe source_file.c\n",
        "\n",
        "##########################################\n",
        "# List Files in Current Working Directory\n",
        "##########################################\n",
        "!ls\n",
        "\n",
        "#################################\n",
        "# Run your c executible file\n",
        "#################################\n",
        "\n",
        "!./executable.exe"
      ],
      "metadata": {
        "colab": {
          "base_uri": "https://localhost:8080/"
        },
        "id": "IEEP7F0TSkDm",
        "outputId": "24086468-0200-45c0-c62d-7e7b4e668af0"
      },
      "execution_count": 2,
      "outputs": [
        {
          "output_type": "stream",
          "name": "stdout",
          "text": [
            "executable.exe\tsample_data  source_file.c\n"
          ]
        }
      ]
    },
    {
      "cell_type": "markdown",
      "source": [
        "# C Source Code"
      ],
      "metadata": {
        "id": "-0m-nTUvjSbq"
      }
    },
    {
      "cell_type": "code",
      "source": [
        "c_source_code_string = \"\"\"/*\n",
        "df.shape() function for c csv_db\n",
        "\n",
        "GGAshbrook 2022.08.21\n",
        "\n",
        "\"Copyright [year] <Copyright Owner>\"  [legal/copyright]\"\n",
        "*/\n",
        "\n",
        "#include <stdio.h>\n",
        "#include <stdlib.h>\n",
        "#include <string.h>\n",
        "\n",
        "int main(int argc, char **argv) {\n",
        "    /*\n",
        "    // check length of input\n",
        "    if ( argc != 4 ) {\n",
        "        // Error message in English\n",
        "        printf(\"incorrect number of input arguments: \");\n",
        "        printf(\"Should be...xyz blah blah blah\");\n",
        "\n",
        "        return EXIT_FAILURE;\n",
        "        }\n",
        "    */\n",
        "\n",
        "    float minutes = atof(argv[1]);\n",
        "    float hours = minutes/60;\n",
        "    float days = hours/24;\n",
        "    float years = days/365;\n",
        "\n",
        "\n",
        "    printf(\"%f\", years/60);\n",
        "\n",
        "    return 0;\n",
        "}\n",
        "\"\"\"\n",
        "\n",
        "####################################\n",
        "# Make it: Make your .c source file\n",
        "####################################\n",
        "with open('main.c', \"w\") as file_object:\n",
        "   # write file content\n",
        "   file_object.write( c_source_code_string )\n",
        "\n",
        "#################################\n",
        "# Compile your c executible file\n",
        "#################################\n",
        "# inspection\n",
        "print(\"Compile: \")\n",
        "\n",
        "!gcc -o min_to_hour.exe main.c\n",
        "\n",
        "##########################################\n",
        "# List Files in Current Working Directory\n",
        "##########################################\n",
        "\n",
        "# inspection\n",
        "print(\"\\nList Files (ls): \")\n",
        "\n",
        "!ls\n",
        "\n",
        "#############################\n",
        "# Run your c executible file\n",
        "#############################\n",
        "# inspection\n",
        "print(\"\\nRun: \")\n",
        "\n",
        "!cpplint main.c; splint main.c; gcc -o min_to_hour.exe main.c; ./min_to_hour.exe 60\n"
      ],
      "metadata": {
        "colab": {
          "base_uri": "https://localhost:8080/"
        },
        "id": "dTTAz2FD7PAD",
        "outputId": "1c5daa1c-6036-4fcb-bf36-0b114f89cd1d"
      },
      "execution_count": 3,
      "outputs": [
        {
          "output_type": "stream",
          "name": "stdout",
          "text": [
            "Compile: \n",
            "\n",
            "List Files (ls): \n",
            "demo.csv  executable.exe  main.c  min_to_hour.exe  sample_data\tsource_file.c\n",
            "\n",
            "Run: \n",
            "Done processing main.c\n",
            "Splint 3.1.2 --- 20 Feb 2018\n",
            "\n",
            "main.c: (in function main)\n",
            "main.c:25:21: Variable minutes initialized to type double, expects float:\n",
            "                 atof(argv[1])\n",
            "  To allow all numeric types to match, use +relaxtypes.\n",
            "main.c:13:14: Parameter argc not used\n",
            "  A function parameter is not used in the body of the function. If the argument\n",
            "  is needed for type compatibility or future plans, use /*@unused@*/ in the\n",
            "  argument declaration. (Use -paramuse to inhibit warning)\n",
            "\n",
            "Finished checking --- 2 code warnings\n",
            "0.000002"
          ]
        }
      ]
    },
    {
      "cell_type": "markdown",
      "source": [
        "# Lint"
      ],
      "metadata": {
        "id": "E8_MAQ2jE9Td"
      }
    },
    {
      "cell_type": "code",
      "source": [
        "!pip install cpplint"
      ],
      "metadata": {
        "colab": {
          "base_uri": "https://localhost:8080/"
        },
        "id": "G_U4xMyQE0u4",
        "outputId": "92f4e40c-b9c5-4e7e-8914-2bb7c90ff66f"
      },
      "execution_count": 5,
      "outputs": [
        {
          "output_type": "stream",
          "name": "stdout",
          "text": [
            "Looking in indexes: https://pypi.org/simple, https://us-python.pkg.dev/colab-wheels/public/simple/\n",
            "Requirement already satisfied: cpplint in /usr/local/lib/python3.7/dist-packages (1.6.1)\n"
          ]
        }
      ]
    },
    {
      "cell_type": "code",
      "source": [
        "!cpplint main.c"
      ],
      "metadata": {
        "colab": {
          "base_uri": "https://localhost:8080/"
        },
        "id": "DgOrkzDTE-Un",
        "outputId": "517cf1f8-a16e-49fd-faba-bc07877b1b1a"
      },
      "execution_count": 6,
      "outputs": [
        {
          "output_type": "stream",
          "name": "stdout",
          "text": [
            "Done processing main.c\n"
          ]
        }
      ]
    },
    {
      "cell_type": "code",
      "source": [
        "!splint main.c"
      ],
      "metadata": {
        "id": "tNaT8ZKHOTwt",
        "colab": {
          "base_uri": "https://localhost:8080/"
        },
        "outputId": "0e1aef40-35f7-4f50-a186-6b27b1c88643"
      },
      "execution_count": 7,
      "outputs": [
        {
          "output_type": "stream",
          "name": "stdout",
          "text": [
            "Splint 3.1.2 --- 20 Feb 2018\n",
            "\n",
            "main.c: (in function main)\n",
            "main.c:25:21: Variable minutes initialized to type double, expects float:\n",
            "                 atof(argv[1])\n",
            "  To allow all numeric types to match, use +relaxtypes.\n",
            "main.c:13:14: Parameter argc not used\n",
            "  A function parameter is not used in the body of the function. If the argument\n",
            "  is needed for type compatibility or future plans, use /*@unused@*/ in the\n",
            "  argument declaration. (Use -paramuse to inhibit warning)\n",
            "\n",
            "Finished checking --- 2 code warnings\n"
          ]
        }
      ]
    }
  ]
}