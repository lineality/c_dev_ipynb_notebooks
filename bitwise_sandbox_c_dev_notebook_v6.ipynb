{
  "nbformat": 4,
  "nbformat_minor": 0,
  "metadata": {
    "colab": {
      "provenance": [],
      "collapsed_sections": [
        "gT3QHulBM8Bv",
        "7Qio39h9SlHw"
      ]
    },
    "kernelspec": {
      "name": "python3",
      "display_name": "Python 3"
    },
    "language_info": {
      "name": "python"
    }
  },
  "cells": [
    {
      "cell_type": "code",
      "source": [
        "# to do:\n",
        "\n",
        "# unsigned?"
      ],
      "metadata": {
        "id": "JtM62uZbOzzF"
      },
      "execution_count": 12,
      "outputs": []
    },
    {
      "cell_type": "markdown",
      "source": [
        "# c Read Input Arguments (args)\n",
        "\n",
        "u% is for unsigned...\n",
        "\n",
        "https://stackoverflow.com/questions/523237/how-to-read-in-numbers-as-command-arguments \n",
        "\n",
        "https://stackoverflow.com/questions/27260304/equivalent-of-atoi-for-unsigned-integers#27278489\n",
        "\n",
        "\n",
        "```\n",
        "atoi() \n",
        "\n",
        "convert string to long\n",
        "strtol() \n",
        "\n",
        "unsigned integers\n",
        "strtoul()\n",
        "```\n",
        "\n",
        "unsigned long int strtoul(const char *nptr, char **endptr, int base);"
      ],
      "metadata": {
        "id": "stJP7ZiTm7JA"
      }
    },
    {
      "cell_type": "markdown",
      "source": [
        "# Install"
      ],
      "metadata": {
        "id": "gT3QHulBM8Bv"
      }
    },
    {
      "cell_type": "code",
      "source": [
        "! sudo apt install splint\n",
        "\n",
        "! pip install cpplint"
      ],
      "metadata": {
        "id": "EAlpLXCmLjyW",
        "colab": {
          "base_uri": "https://localhost:8080/"
        },
        "outputId": "33bd33a5-8cc7-49d3-f903-d2faf11eb2a4"
      },
      "execution_count": 13,
      "outputs": [
        {
          "output_type": "stream",
          "name": "stdout",
          "text": [
            "Reading package lists... Done\n",
            "Building dependency tree       \n",
            "Reading state information... Done\n",
            "splint is already the newest version (1:3.1.2+dfsg-1build1).\n",
            "The following package was automatically installed and is no longer required:\n",
            "  libnvidia-common-460\n",
            "Use 'sudo apt autoremove' to remove it.\n",
            "0 upgraded, 0 newly installed, 0 to remove and 20 not upgraded.\n",
            "Looking in indexes: https://pypi.org/simple, https://us-python.pkg.dev/colab-wheels/public/simple/\n",
            "Requirement already satisfied: cpplint in /usr/local/lib/python3.7/dist-packages (1.6.1)\n"
          ]
        }
      ]
    },
    {
      "cell_type": "markdown",
      "source": [
        "# Make demo.csv"
      ],
      "metadata": {
        "id": "7Qio39h9SlHw"
      }
    },
    {
      "cell_type": "code",
      "source": [
        "\"\"\"\n",
        "Make csv file.\n",
        "\"\"\"\n",
        "\n",
        "\n",
        "#########################\n",
        "# Text for demo.csv file\n",
        "#########################\n",
        "c_source_code_string = \"\"\"\n",
        "/*\n",
        "c program to write a sample demo dummy .csv file\n",
        "\n",
        "https://www.geeksforgeeks.org/strings-in-c-2/\n",
        "*/\n",
        "\n",
        "#include <stdio.h>\n",
        "#include <stdlib.h>\n",
        "\n",
        "int main() {\n",
        "\n",
        "    // set variable/memory for dummy csv file\n",
        "    char str[100] = \"a,b,c\\\\n1,2,3\\\\n4,5,6\";\n",
        "\n",
        "\n",
        "    // creating file pointer to work with files\n",
        "    FILE *file_pointer;\n",
        "\n",
        "\n",
        "    // opening file in writing mode\n",
        "    file_pointer = fopen( \"demo.csv\", \"w\" );\n",
        "\n",
        "\n",
        "    // check for error: was file created? if not exit program with message.\n",
        "    if ( file_pointer == NULL ) {\n",
        "        printf( \"The Error! The Error! AHHHHHHHH!!!!!\" );\n",
        "        exit( 1 );\n",
        "    }\n",
        "\n",
        "    // write to file\n",
        "    fprintf( file_pointer, \"%s\", str );\n",
        "    \n",
        "\n",
        "    // close file, ending file-write\n",
        "    fclose( file_pointer );\n",
        "    \n",
        "\n",
        "    // end program, exit\n",
        "    return 0;\n",
        "}\n",
        "\"\"\"\n",
        "\n",
        "####################################\n",
        "# make it: Make your .c source file\n",
        "####################################\n",
        "with open('source_file.c', \"w\") as file_object:\n",
        "   # write file content\n",
        "   file_object.write( c_source_code_string )\n",
        "\n",
        "#################################\n",
        "# Compile your c executible file\n",
        "#################################\n",
        "\n",
        "! gcc -o executable.exe source_file.c\n",
        "\n",
        "##########################################\n",
        "# List Files in Current Working Directory\n",
        "##########################################\n",
        "!ls\n",
        "\n",
        "#################################\n",
        "# Run your c executible file\n",
        "#################################\n",
        "\n",
        "!./executable.exe"
      ],
      "metadata": {
        "colab": {
          "base_uri": "https://localhost:8080/"
        },
        "id": "IEEP7F0TSkDm",
        "outputId": "90dcc1f2-fbf0-4f28-9736-d153659170a7"
      },
      "execution_count": 14,
      "outputs": [
        {
          "output_type": "stream",
          "name": "stdout",
          "text": [
            "demo.csv  executable.exe  main.c  program.exe  sample_data  source_file.c\n"
          ]
        }
      ]
    },
    {
      "cell_type": "markdown",
      "source": [
        "# C Source Code"
      ],
      "metadata": {
        "id": "-0m-nTUvjSbq"
      }
    },
    {
      "cell_type": "code",
      "source": [
        "c_source_code_string = \"\"\"/*\n",
        "bitwise\n",
        "\n",
        "GGAshbrook 2022.08.21\n",
        "\n",
        "\"Copyright [year] <Copyright Owner>\"  [legal/copyright]\"\n",
        "*/\n",
        "\n",
        "#include <stdio.h>\n",
        "#include <stdlib.h>\n",
        "#include <string.h>\n",
        "\n",
        "int main(int argc, char **argv) {\n",
        "      ////////////\n",
        "     // variables\n",
        "    /////////////\n",
        "\n",
        "    unsigned int input_1;\n",
        "    unsigned int input_2;\n",
        "    unsigned int input_3;\n",
        "    unsigned int the_answer;\n",
        "\n",
        "\n",
        "      ///////////////////////////\n",
        "     // Check and Set Variables int arg1 = atoi(argv[1]);\n",
        "    ///////////////////////////\n",
        "\n",
        "    // check length of input\n",
        "    if ( argc != 4 ) {\n",
        "        // Error message in English\n",
        "        printf(\"argc = %d\", argc);\n",
        "        printf(\"incorrect number of input arguments: \");\n",
        "        printf(\"After NAME.exe -> enter: \");\n",
        "        printf(\"1. first number (int), 2. second number (int)\");\n",
        "\n",
        "        return EXIT_FAILURE;\n",
        "        }\n",
        "\n",
        "    // 1st input is the target row\n",
        "    // pseudocode: input_1 = argv[2]\n",
        "    sscanf(argv[1], \"%u\", &input_1);\n",
        "\n",
        "    // 2nd input is the target column\n",
        "    // pseudocode: input_2 = argv[3]\n",
        "    sscanf(argv[2], \"%u\", &input_2);\n",
        "\n",
        "    // 3rd input is the target column\n",
        "    // pseudocode: input_3 = argv[3]\n",
        "    sscanf(argv[3], \"%u\", &input_3);\n",
        "\n",
        "\n",
        "      /////////////////\n",
        "     // Code & Print\n",
        "    /////////////////\n",
        "\n",
        "    the_answer = input_1 | input_2;\n",
        "    printf(\"or | answer = %u \", the_answer);\n",
        "\n",
        "    printf(\"\\\\n\");\n",
        "\n",
        "    the_answer = input_1 & input_2;\n",
        "    printf(\"and & answer = %u\", the_answer);\n",
        "\n",
        "    printf(\"\\\\n\");\n",
        "\n",
        "    the_answer = input_1 ^ input_2;\n",
        "    printf(\"xor ^ answer = %u\", the_answer);\n",
        "\n",
        "    printf(\"\\\\n\");\n",
        "\n",
        "    the_answer = input_1 >> input_2;\n",
        "    printf(\"right shift >> answer = %u\", the_answer);\n",
        "\n",
        "    printf(\"\\\\n\");\n",
        "\n",
        "    the_answer = input_1 << input_2;\n",
        "    printf(\"left shift << answer = %u\", the_answer);\n",
        "\n",
        "    printf(\"\\\\n\");\n",
        "\n",
        "    the_answer = ~input_1;\n",
        "    printf(\"unary input_1 ~ answer = %u\", the_answer);\n",
        "\n",
        "    printf(\"\\\\n\");\n",
        "\n",
        "    the_answer = ~input_2;\n",
        "    printf(\"unary input_2 ~ answer = %u\", the_answer);\n",
        "\n",
        "      ////////////\n",
        "     // Finish //\n",
        "    ////////////\n",
        "\n",
        "    return 0;\n",
        "}\n",
        "\"\"\"\n",
        "\n",
        "####################################\n",
        "# Make it: Make your .c source file\n",
        "####################################\n",
        "with open('main.c', \"w\") as file_object:\n",
        "   # write file content\n",
        "   file_object.write( c_source_code_string )\n",
        "\n",
        "#################################\n",
        "# Compile your c executible file\n",
        "#################################\n",
        "# inspection\n",
        "print(\"Compile: \")\n",
        "\n",
        "!gcc -o program.exe main.c\n",
        "\n",
        "##########################################\n",
        "# List Files in Current Working Directory\n",
        "##########################################\n",
        "\n",
        "# inspection\n",
        "print(\"\\nList Files (ls): \")\n",
        "\n",
        "!ls\n",
        "\n",
        "#############################\n",
        "# Run your c executible file\n",
        "#############################\n",
        "# inspection\n",
        "print(\"\\nRun: \")\n",
        "\n",
        "!./program.exe 5 1 3\n"
      ],
      "metadata": {
        "colab": {
          "base_uri": "https://localhost:8080/"
        },
        "id": "YzRlaAaPJqr_",
        "outputId": "60696d9b-d836-4db9-c036-51d60b419059"
      },
      "execution_count": 21,
      "outputs": [
        {
          "output_type": "stream",
          "name": "stdout",
          "text": [
            "Compile: \n",
            "\n",
            "List Files (ls): \n",
            "demo.csv  executable.exe  main.c  program.exe  sample_data  source_file.c\n",
            "\n",
            "Run: \n",
            "or | answer = 5 \n",
            "and & answer = 1\n",
            "xor ^ answer = 4\n",
            "right shift >> answer = 2\n",
            "left shift << answer = 10\n",
            "unary input_1 ~ answer = 4294967290\n",
            "unary input_2 ~ answer = 4294967294"
          ]
        }
      ]
    },
    {
      "cell_type": "code",
      "source": [
        "# input values\n",
        "input_1 = 5\n",
        "input_2 = 12\n",
        "input_3 = 1\n",
        "\n",
        "# check & compile\n",
        "!cpplint main.c; splint main.c; gcc -o program.exe main.c\n",
        "\n",
        "# run\n",
        "!./program.exe input_1 input_2 input_3"
      ],
      "metadata": {
        "colab": {
          "base_uri": "https://localhost:8080/"
        },
        "id": "B9zvmY8klrOE",
        "outputId": "d9c294d6-864c-428f-f930-1cf87222294c"
      },
      "execution_count": 23,
      "outputs": [
        {
          "output_type": "stream",
          "name": "stdout",
          "text": [
            "Done processing main.c\n",
            "Splint 3.1.2 --- 20 Feb 2018\n",
            "\n",
            "main.c: (in function main)\n",
            "main.c:41:5: Return value (type int) ignored: sscanf(argv[1], ...\n",
            "  Result returned by function call is not used. If this is intended, can cast\n",
            "  result to (void) to eliminate message. (Use -retvalint to inhibit warning)\n",
            "main.c:45:5: Return value (type int) ignored: sscanf(argv[2], ...\n",
            "main.c:49:5: Return value (type int) ignored: sscanf(argv[3], ...\n",
            "\n",
            "Finished checking --- 3 code warnings\n",
            "or | answer = 3573282787 \n",
            "and & answer = 17504\n",
            "xor ^ answer = 3573265283\n",
            "right shift >> answer = 446659788\n",
            "left shift << answer = 2816422656\n",
            "unary input_1 ~ answer = 721688991\n",
            "unary input_2 ~ answer = 4294945308"
          ]
        }
      ]
    },
    {
      "cell_type": "markdown",
      "source": [
        "# Lint"
      ],
      "metadata": {
        "id": "E8_MAQ2jE9Td"
      }
    },
    {
      "cell_type": "code",
      "source": [
        "!cpplint main.c"
      ],
      "metadata": {
        "colab": {
          "base_uri": "https://localhost:8080/"
        },
        "id": "DgOrkzDTE-Un",
        "outputId": "25995a77-0f9d-42d0-fa92-8c146d671729"
      },
      "execution_count": 17,
      "outputs": [
        {
          "output_type": "stream",
          "name": "stdout",
          "text": [
            "Done processing main.c\n"
          ]
        }
      ]
    },
    {
      "cell_type": "code",
      "source": [
        "!splint main.c"
      ],
      "metadata": {
        "id": "tNaT8ZKHOTwt",
        "colab": {
          "base_uri": "https://localhost:8080/"
        },
        "outputId": "b1a24441-4a8e-4648-c7fd-7c3ef8d6a6e4"
      },
      "execution_count": 18,
      "outputs": [
        {
          "output_type": "stream",
          "name": "stdout",
          "text": [
            "Splint 3.1.2 --- 20 Feb 2018\n",
            "\n",
            "main.c: (in function main)\n",
            "main.c:41:5: Return value (type int) ignored: sscanf(argv[1], ...\n",
            "  Result returned by function call is not used. If this is intended, can cast\n",
            "  result to (void) to eliminate message. (Use -retvalint to inhibit warning)\n",
            "main.c:45:5: Return value (type int) ignored: sscanf(argv[2], ...\n",
            "main.c:49:5: Return value (type int) ignored: sscanf(argv[3], ...\n",
            "\n",
            "Finished checking --- 3 code warnings\n"
          ]
        }
      ]
    }
  ]
}