{
  "nbformat": 4,
  "nbformat_minor": 0,
  "metadata": {
    "colab": {
      "provenance": [],
      "collapsed_sections": [
        "gT3QHulBM8Bv",
        "7Qio39h9SlHw"
      ]
    },
    "kernelspec": {
      "name": "python3",
      "display_name": "Python 3"
    },
    "language_info": {
      "name": "python"
    }
  },
  "cells": [
    {
      "cell_type": "markdown",
      "source": [
        "# c Dev Template\n",
        "\n",
        "\n",
        "\n",
        "```\n",
        "This notebook works in environments such as colab,\n",
        "and may work locally if you have gcc installed,\n",
        "to create, to test, and to run, C code and produce binary files.\n",
        "```"
      ],
      "metadata": {
        "id": "stJP7ZiTm7JA"
      }
    },
    {
      "cell_type": "markdown",
      "source": [
        "# Install"
      ],
      "metadata": {
        "id": "gT3QHulBM8Bv"
      }
    },
    {
      "cell_type": "code",
      "source": [
        "!sudo apt install splint\n",
        "\n",
        "!pip install cpplint"
      ],
      "metadata": {
        "id": "EAlpLXCmLjyW",
        "colab": {
          "base_uri": "https://localhost:8080/"
        },
        "outputId": "7b3c13a8-13f0-48c5-c271-4d3e498c9106"
      },
      "execution_count": null,
      "outputs": [
        {
          "output_type": "stream",
          "name": "stdout",
          "text": [
            "Reading package lists... Done\n",
            "Building dependency tree       \n",
            "Reading state information... Done\n",
            "splint is already the newest version (1:3.1.2+dfsg-1build1).\n",
            "The following package was automatically installed and is no longer required:\n",
            "  libnvidia-common-460\n",
            "Use 'sudo apt autoremove' to remove it.\n",
            "0 upgraded, 0 newly installed, 0 to remove and 20 not upgraded.\n",
            "Looking in indexes: https://pypi.org/simple, https://us-python.pkg.dev/colab-wheels/public/simple/\n",
            "Requirement already satisfied: cpplint in /usr/local/lib/python3.7/dist-packages (1.6.1)\n"
          ]
        }
      ]
    },
    {
      "cell_type": "markdown",
      "source": [
        "# Make demo.csv"
      ],
      "metadata": {
        "id": "7Qio39h9SlHw"
      }
    },
    {
      "cell_type": "code",
      "source": [
        "\"\"\"\n",
        "Make csv file.\n",
        "\"\"\"\n",
        "\n",
        "\n",
        "#########################\n",
        "# Text for demo.csv file\n",
        "#########################\n",
        "c_source_code_string = \"\"\"\n",
        "/*\n",
        "c program to write a sample demo dummy .csv file\n",
        "\n",
        "https://www.geeksforgeeks.org/strings-in-c-2/\n",
        "*/\n",
        "\n",
        "#include <stdio.h>\n",
        "#include <stdlib.h>\n",
        "\n",
        "int main() {\n",
        "\n",
        "    // set variable/memory for dummy csv file\n",
        "    char str[100] = \"a,b,c\\\\n1,2,3\\\\n4,5,6\";\n",
        "\n",
        "\n",
        "    // creating file pointer to work with files\n",
        "    FILE *file_pointer;\n",
        "\n",
        "\n",
        "    // opening file in writing mode\n",
        "    file_pointer = fopen( \"demo.csv\", \"w\" );\n",
        "\n",
        "\n",
        "    // check for error: was file created? if not exit program with message.\n",
        "    if ( file_pointer == NULL ) {\n",
        "        printf( \"The Error! The Error! AHHHHHHHH!!!!!\" );\n",
        "        exit( 1 );\n",
        "    }\n",
        "\n",
        "    // write to file\n",
        "    fprintf( file_pointer, \"%s\", str );\n",
        "    \n",
        "\n",
        "    // close file, ending file-write\n",
        "    fclose( file_pointer );\n",
        "    \n",
        "\n",
        "    // end program, exit\n",
        "    return 0;\n",
        "}\n",
        "\"\"\"\n",
        "\n",
        "####################################\n",
        "# make it: Make your .c source file\n",
        "####################################\n",
        "with open('source_file.c', \"w\") as file_object:\n",
        "   # write file content\n",
        "   file_object.write( c_source_code_string )\n",
        "\n",
        "#################################\n",
        "# Compile your c executible file\n",
        "#################################\n",
        "\n",
        "! gcc -o executable.exe source_file.c\n",
        "\n",
        "##########################################\n",
        "# List Files in Current Working Directory\n",
        "##########################################\n",
        "!ls\n",
        "\n",
        "#################################\n",
        "# Run your c executible file\n",
        "#################################\n",
        "\n",
        "!./executable.exe"
      ],
      "metadata": {
        "colab": {
          "base_uri": "https://localhost:8080/"
        },
        "id": "IEEP7F0TSkDm",
        "outputId": "fe3f9c32-e567-4fcb-b3eb-5f9d07e5cb57"
      },
      "execution_count": null,
      "outputs": [
        {
          "output_type": "stream",
          "name": "stdout",
          "text": [
            "demo.csv  executable.exe  program.exe  source_file.c\n",
            "enum.exe  main.c\t  sample_data\n"
          ]
        }
      ]
    },
    {
      "cell_type": "markdown",
      "source": [
        "# C Source Code"
      ],
      "metadata": {
        "id": "-0m-nTUvjSbq"
      }
    },
    {
      "cell_type": "code",
      "source": [
        "\"\"\"\n",
        "df_shape( file_name ) -> shape: # rows, # columns\n",
        "\"\"\"\n",
        "\n",
        "c_source_code_string = \"\"\"/*\n",
        "df.shape() function for c csv_db\n",
        "\n",
        "GGAshbrook 2022.08.21\n",
        "\n",
        "\"Copyright [year] <Copyright Owner>\"  [legal/copyright]\"\n",
        "*/\n",
        "\n",
        "#include <stdio.h>\n",
        "#include <stdlib.h>\n",
        "#include <string.h>\n",
        "\n",
        "#define MAX_FILE_NAME 100\n",
        "\n",
        "int main(int argc, char **argv) {\n",
        "      ////////////\n",
        "     // variables\n",
        "    /////////////\n",
        "\n",
        "    // file path to (and name of) csv file, input as argument\n",
        "    char *path;\n",
        "    FILE* file_pointer;\n",
        "    int read_to_this_row_new_lines;\n",
        "    int read_to_this_column_commas;\n",
        "    int total_character_step_count = 0;\n",
        "    int total_cell_count = 1;\n",
        "\n",
        "      ///////////////////////////\n",
        "     // Check and Set Variables\n",
        "    ///////////////////////////\n",
        "\n",
        "    // check length of input\n",
        "    if ( argc != 4 ) {\n",
        "        // Error message in English\n",
        "        printf(\"incorrect number of input arguments: \");\n",
        "        printf(\"After NAME.exe -> enter: 1. FILE_NAME.csv\");\n",
        "        printf(\"2. target row (int), 3. Target colum (int)\");\n",
        "\n",
        "        return EXIT_FAILURE;\n",
        "        }\n",
        "\n",
        "    // first input is the file path (including file name)\n",
        "    path = argv[1];\n",
        "\n",
        "    // second input is the target row\n",
        "    // pseudocode: read_to_this_row_new_lines = argv[2];\n",
        "    sscanf(argv[2], \"%d\", &read_to_this_row_new_lines);\n",
        "\n",
        "    // third input is the target column\n",
        "    // pseudocode: read_to_this_column_commas = argv[3];\n",
        "    sscanf(argv[3], \"%d\", &read_to_this_column_commas);\n",
        "\n",
        "    // Character counter (result)\n",
        "    int column_comma_counter = 0, row_newline_counter = 0;\n",
        "\n",
        "    char filename[MAX_FILE_NAME];\n",
        "\n",
        "    // To store a character read from file\n",
        "    char c;\n",
        "\n",
        "      ///////////////////////\n",
        "     // Open and Check File\n",
        "    ///////////////////////\n",
        "\n",
        "    // Open file (use the file name given in first input)\n",
        "    file_pointer = fopen(path, \"r\");\n",
        "\n",
        "    // if there is no file, exit to an error message\n",
        "    if (!file_pointer) {\n",
        "        // Error message in English\n",
        "        printf(\"specify your file: e.g. ./dfhead.exe YOUR_FILE_NAME\");\n",
        "\n",
        "        // return machine error message\n",
        "        perror(path);\n",
        "\n",
        "        // fully exit probram\n",
        "        return EXIT_FAILURE;\n",
        "        }\n",
        "\n",
        "    // Extract characters from file\n",
        "    // and store in character c\n",
        "    for (c = getc(file_pointer); c != EOF; c = getc(file_pointer)) {\n",
        "        // if at end of file  -> exit loop\n",
        "        if ( c == EOF )\n",
        "            break;\n",
        "\n",
        "        // if you are at your destination -> exit loop\n",
        "        if ((row_newline_counter == read_to_this_row_new_lines) &\n",
        "        (column_comma_counter == read_to_this_column_commas)) {\n",
        "          break;\n",
        "        }\n",
        "\n",
        "        // Count total read steps through file\n",
        "        // To get to the target_iloc destination\n",
        "        total_character_step_count++;\n",
        "\n",
        "\n",
        "        // count columns (commas)\n",
        "        if ( c == ',' ) {\n",
        "            column_comma_counter++;\n",
        "\n",
        "            // add to cell counter\n",
        "            total_cell_count++;\n",
        "        }\n",
        "\n",
        "        // count rows (new lines)\n",
        "        if ( c == '\\\\n' ) {\n",
        "            row_newline_counter++;\n",
        "\n",
        "            // And reset the comma counter to zero\n",
        "            column_comma_counter = 0;\n",
        "        }\n",
        "\n",
        "\n",
        "\n",
        "        // End For Loop\n",
        "        }\n",
        "\n",
        "    // Close the file\n",
        "    fclose(file_pointer);\n",
        "\n",
        "    printf(\"\\\\nFile = %s\",\n",
        "    path);\n",
        "\n",
        "    printf(\"\\\\nArrived @ index location = (%d,%d) (row, column)\",\n",
        "    row_newline_counter,\n",
        "    column_comma_counter);\n",
        "\n",
        "    printf(\"\\\\nCells-Along starting at One = %d, File_Steps = %d\",\n",
        "    total_cell_count, total_character_step_count);\n",
        "\n",
        "    return total_character_step_count;\n",
        "}\n",
        "\"\"\"\n",
        "\n",
        "####################################\n",
        "# Make it: Make your .c source file\n",
        "####################################\n",
        "with open('main.c', \"w\") as file_object:\n",
        "   # write file content\n",
        "   file_object.write( c_source_code_string )\n",
        "\n",
        "#################################\n",
        "# Compile your c executible file\n",
        "#################################\n",
        "# inspection\n",
        "print(\"Compile: \")\n",
        "\n",
        "!gcc -o program.exe main.c\n",
        "\n",
        "##########################################\n",
        "# List Files in Current Working Directory\n",
        "##########################################\n",
        "\n",
        "# inspection\n",
        "print(\"\\nList FIles (ls): \")\n",
        "\n",
        "!ls\n",
        "\n",
        "#############################\n",
        "# Run your c executible file\n",
        "#############################\n",
        "# inspection\n",
        "print(\"\\nRun: \")\n",
        "\n",
        "# !./program.exe demo.csv 0 2\n",
        "\n",
        "!cpplint main.c; splint main.c; gcc -o program.exe main.c; ./program.exe demo.csv 2 4\n"
      ],
      "metadata": {
        "colab": {
          "base_uri": "https://localhost:8080/"
        },
        "id": "dTTAz2FD7PAD",
        "outputId": "d430578d-9270-4c5c-c717-ea8acdf3441c"
      },
      "execution_count": null,
      "outputs": [
        {
          "output_type": "stream",
          "name": "stdout",
          "text": [
            "Compile: \n",
            "\n",
            "List FIles (ls): \n",
            "demo.csv  executable.exe  program.exe  source_file.c\n",
            "enum.exe  main.c\t  sample_data\n",
            "\n",
            "Run: \n",
            "Done processing main.c\n",
            "Splint 3.1.2 --- 20 Feb 2018\n",
            "\n",
            "main.c: (in function main)\n",
            "main.c:47:5: Return value (type int) ignored: sscanf(argv[2], ...\n",
            "  Result returned by function call is not used. If this is intended, can cast\n",
            "  result to (void) to eliminate message. (Use -retvalint to inhibit warning)\n",
            "main.c:51:5: Return value (type int) ignored: sscanf(argv[3], ...\n",
            "main.c:82:10: Assignment of int to char: c = getc(file_pointer)\n",
            "  To make char and int types equivalent, use +charint.\n",
            "main.c:82:34: Operands of != have incompatible types (char, int): c != EOF\n",
            "main.c:82:44: Assignment of int to char: c = getc(file_pointer)\n",
            "main.c:84:14: Operands of == have incompatible types (char, int): c == EOF\n",
            "main.c:82:34: Incompatible types for != (char, int) (in post loop test):\n",
            "                 c != EOF\n",
            "main.c:120:5: Return value (type int) ignored: fclose(file_pointer)\n",
            "main.c:56:10: Variable filename declared but not used\n",
            "  A variable is declared but never used. Use /*@unused@*/ in front of\n",
            "  declaration to suppress message. (Use -varuse to inhibit warning)\n",
            "\n",
            "Finished checking --- 9 code warnings\n",
            "\n",
            "File = demo.csv\n",
            "Arrived @ index location = (2,2) (row, column)\n",
            "Cells-Along starting at One = 7, File_Steps = 17"
          ]
        }
      ]
    },
    {
      "cell_type": "code",
      "source": [],
      "metadata": {
        "id": "9vNQPTe2Lg8T"
      },
      "execution_count": null,
      "outputs": []
    },
    {
      "cell_type": "markdown",
      "source": [
        "# Lint\n",
        "https://github.com/cpplint/cpplint \n",
        "\n",
        "```\n",
        "!sudo apt install splint\n",
        "\n",
        "!pip install cpplint\n",
        "```\n",
        "\n",
        "# Format\n",
        "https://github.com/dawnbeen/c_formatter_42\n",
        "```\n",
        "!sudo apt install clang-format\n",
        "\n",
        "pip3 install c-formatter-42\n",
        "\n",
        "or\n",
        "\n",
        "$ git clone https://github.com/cacharle/c_formatter_42\n",
        "$ cd c_formatter_42\n",
        "$ pip3 install -e .\n",
        "\n",
        "```\n",
        "\n",
        "\n"
      ],
      "metadata": {
        "id": "E8_MAQ2jE9Td"
      }
    },
    {
      "cell_type": "code",
      "source": [
        "!cpplint main.c"
      ],
      "metadata": {
        "colab": {
          "base_uri": "https://localhost:8080/"
        },
        "id": "DgOrkzDTE-Un",
        "outputId": "405e0541-acfd-4490-88c0-796ddde6cf1f"
      },
      "execution_count": null,
      "outputs": [
        {
          "output_type": "stream",
          "name": "stdout",
          "text": [
            "Done processing main.c\n"
          ]
        }
      ]
    },
    {
      "cell_type": "code",
      "source": [
        "!splint main.c"
      ],
      "metadata": {
        "id": "tNaT8ZKHOTwt",
        "colab": {
          "base_uri": "https://localhost:8080/"
        },
        "outputId": "107b5950-3957-4773-fd30-75a2a32bbebf"
      },
      "execution_count": null,
      "outputs": [
        {
          "output_type": "stream",
          "name": "stdout",
          "text": [
            "Splint 3.1.2 --- 20 Feb 2018\n",
            "\n",
            "main.c: (in function main)\n",
            "main.c:47:5: Return value (type int) ignored: sscanf(argv[2], ...\n",
            "  Result returned by function call is not used. If this is intended, can cast\n",
            "  result to (void) to eliminate message. (Use -retvalint to inhibit warning)\n",
            "main.c:51:5: Return value (type int) ignored: sscanf(argv[3], ...\n",
            "main.c:82:10: Assignment of int to char: c = getc(file_pointer)\n",
            "  To make char and int types equivalent, use +charint.\n",
            "main.c:82:34: Operands of != have incompatible types (char, int): c != EOF\n",
            "main.c:82:44: Assignment of int to char: c = getc(file_pointer)\n",
            "main.c:84:14: Operands of == have incompatible types (char, int): c == EOF\n",
            "main.c:82:34: Incompatible types for != (char, int) (in post loop test):\n",
            "                 c != EOF\n",
            "main.c:120:5: Return value (type int) ignored: fclose(file_pointer)\n",
            "main.c:56:10: Variable filename declared but not used\n",
            "  A variable is declared but never used. Use /*@unused@*/ in front of\n",
            "  declaration to suppress message. (Use -varuse to inhibit warning)\n",
            "\n",
            "Finished checking --- 9 code warnings\n"
          ]
        }
      ]
    }
  ]
}